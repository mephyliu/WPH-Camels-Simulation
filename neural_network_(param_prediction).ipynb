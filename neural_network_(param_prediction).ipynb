{
  "nbformat": 4,
  "nbformat_minor": 0,
  "metadata": {
    "colab": {
      "provenance": [],
      "machine_shape": "hm",
      "gpuType": "V100"
    },
    "kernelspec": {
      "name": "python3",
      "display_name": "Python 3"
    },
    "language_info": {
      "name": "python"
    },
    "accelerator": "GPU"
  },
  "cells": [
    {
      "cell_type": "code",
      "execution_count": 1,
      "metadata": {
        "colab": {
          "base_uri": "https://localhost:8080/"
        },
        "id": "k4iaTy_AaxHU",
        "outputId": "5559f514-79ae-4d6f-ec7b-699260b3a438"
      },
      "outputs": [
        {
          "output_type": "stream",
          "name": "stdout",
          "text": [
            "Collecting pywph==1.0\n",
            "  Downloading pywph-1.0-py3-none-any.whl (22 kB)\n",
            "\u001b[33mWARNING: The candidate selected for download or install is a yanked version: 'pywph' candidate (version 1.0 at https://files.pythonhosted.org/packages/53/79/19ab051df789ff0e616b4283b174db5fff8bfd09a3d0b993ab47794a6ad8/pywph-1.0-py3-none-any.whl (from https://pypi.org/simple/pywph/) (requires-python:>=3.8))\n",
            "Reason for being yanked: Wrong requirements.\u001b[0m\u001b[33m\n",
            "\u001b[0mInstalling collected packages: pywph\n",
            "Successfully installed pywph-1.0\n"
          ]
        }
      ],
      "source": [
        "! pip install pywph==1.0\n",
        "\n",
        "import pandas as pd\n",
        "import matplotlib.pyplot as plt\n",
        "import seaborn as sb\n",
        "import pywph as pw\n",
        "import numpy as np\n",
        "import torch\n",
        "import scipy.optimize as opt\n",
        "import time"
      ]
    },
    {
      "cell_type": "code",
      "source": [
        "from google.colab import drive\n",
        "drive.mount('/content/drive')"
      ],
      "metadata": {
        "colab": {
          "base_uri": "https://localhost:8080/"
        },
        "id": "OoiC1SsJbe-P",
        "outputId": "6dc5156c-cb26-4a57-863f-d084f571499a"
      },
      "execution_count": 2,
      "outputs": [
        {
          "output_type": "stream",
          "name": "stdout",
          "text": [
            "Mounted at /content/drive\n"
          ]
        }
      ]
    },
    {
      "cell_type": "code",
      "source": [
        "params = pd.read_csv('drive/MyDrive/camels data/params.csv')\n",
        "nbody_file = np.load('drive/MyDrive/camels data/Maps_Mtot_Nbody_SIMBA_LH_z=0.00.npy')"
      ],
      "metadata": {
        "id": "zTE19jGZbe8K"
      },
      "execution_count": 3,
      "outputs": []
    },
    {
      "cell_type": "code",
      "source": [
        "full_params = params.loc[params.index.repeat(15)] # from len=1000 to len=15000\n",
        "full_params = full_params.to_numpy()\n",
        "wph_coeffs_1000 = np.load('drive/MyDrive/camels data/wph_coeffs.npy')"
      ],
      "metadata": {
        "id": "oQ6rqof3iOGF"
      },
      "execution_count": 4,
      "outputs": []
    },
    {
      "cell_type": "code",
      "source": [
        "nbody_file.shape"
      ],
      "metadata": {
        "colab": {
          "base_uri": "https://localhost:8080/"
        },
        "id": "Ka-8pi3rbe4P",
        "outputId": "64969c0f-a9ca-4297-a16f-b4cce714ae9f"
      },
      "execution_count": 5,
      "outputs": [
        {
          "output_type": "execute_result",
          "data": {
            "text/plain": [
              "(15000, 256, 256)"
            ]
          },
          "metadata": {},
          "execution_count": 5
        }
      ]
    },
    {
      "cell_type": "code",
      "source": [
        "M = 256\n",
        "N = 256\n",
        "J = 7\n",
        "L = 4\n",
        "dn =0\n",
        "wph_op = pw.WPHOp(M, N, J, L=L, dn=dn)\n",
        "\n",
        "if torch.cuda.is_available():\n",
        "    wph_op.to(0)\n",
        "\n",
        "data = np.log(nbody_file)"
      ],
      "metadata": {
        "id": "dyaM0Donfqyn"
      },
      "execution_count": 6,
      "outputs": []
    },
    {
      "cell_type": "code",
      "source": [
        "data[0].shape"
      ],
      "metadata": {
        "colab": {
          "base_uri": "https://localhost:8080/"
        },
        "id": "WfFEPP__Jli_",
        "outputId": "962a47b5-9242-44d3-9e21-42e8fcc55613"
      },
      "execution_count": 7,
      "outputs": [
        {
          "output_type": "execute_result",
          "data": {
            "text/plain": [
              "(256, 256)"
            ]
          },
          "metadata": {},
          "execution_count": 7
        }
      ]
    },
    {
      "cell_type": "code",
      "source": [
        "num = 1000\n",
        "norm = None\n",
        "wph_coeffs_1000 = np.zeros((num*15,520),dtype='complex')\n",
        "#wph = wph_op(data, pbc=True, norm='auto', ret_wph_obj=True)\n",
        "\n",
        "#for i in range(0,num):\n",
        "#  if i%50==0: print(i)\n",
        "#  test_coeff = wph_op(data[(i*15):(i*15+15)], norm=norm, pbc=True)\n",
        "#  wph_coeffs_1000[(i*15):(i*15+15)] = test_coeff.cpu()\n"
      ],
      "metadata": {
        "id": "qzAtNb0QnZ8P"
      },
      "execution_count": null,
      "outputs": []
    },
    {
      "cell_type": "code",
      "source": [
        "#np.save('drive/MyDrive/camels data/wph_coeffs.npy', wph_coeffs_1000) #norm = None\n",
        "#np.load('drive/MyDrive/camels data/wph_coeffs.npy')\n"
      ],
      "metadata": {
        "id": "QxpGmXBYCyac"
      },
      "execution_count": null,
      "outputs": []
    },
    {
      "cell_type": "code",
      "source": [
        "wph = wph_op(data[0], ret_wph_obj=True, norm=None)\n",
        "S11_shape = (wph.get_coeffs(\"S11\")[0].shape)[0]\n",
        "S00_shape = (wph.get_coeffs(\"S00\")[0].shape)[0]\n",
        "S01_shape = (wph.get_coeffs(\"S01\")[0].shape)[0]\n",
        "C01_shape = (wph.get_coeffs(\"C01\")[0].shape)[0]\n",
        "Cphase_shape = (wph.get_coeffs(\"Cphase\")[0].shape)[0]\n",
        "L_shape = (wph.get_coeffs(\"L\")[0].shape)[0]\n"
      ],
      "metadata": {
        "id": "yuu7xMUBgQzY"
      },
      "execution_count": 8,
      "outputs": []
    },
    {
      "cell_type": "code",
      "source": [
        "real_coeffs = wph_coeffs_1000.real\n",
        "imag_coeffs = wph_coeffs_1000.imag\n",
        "# use real part only here"
      ],
      "metadata": {
        "id": "pmH-R9HsroG_"
      },
      "execution_count": 9,
      "outputs": []
    },
    {
      "cell_type": "code",
      "source": [
        "import tensorflow as tf\n",
        "from tensorflow import keras\n",
        "from tensorflow.keras import layers\n",
        "from sklearn.model_selection import train_test_split\n",
        "from sklearn.preprocessing import MinMaxScaler"
      ],
      "metadata": {
        "id": "zwaohdIFfbt1"
      },
      "execution_count": 10,
      "outputs": []
    },
    {
      "cell_type": "code",
      "source": [
        "# normalise\n",
        "#scaler = MinMaxScaler()\n",
        "#real_coeffs = scaler.fit_transform(real_coeffs)\n",
        "#full_params = scaler.fit_transform(full_params)\n"
      ],
      "metadata": {
        "id": "dFFgbJSFUCxV"
      },
      "execution_count": 25,
      "outputs": []
    },
    {
      "cell_type": "code",
      "source": [
        "num_samples, num_params= np.shape(full_params)\n",
        "num_samples, num_coeffs = np.shape(real_coeffs)\n",
        "\n",
        "coeffs_train, coeffs_test, params_train, params_test = train_test_split(real_coeffs, full_params,\n",
        "                                                                    test_size=0.1, random_state=42)"
      ],
      "metadata": {
        "id": "hc9CI4iajIt4"
      },
      "execution_count": 11,
      "outputs": []
    },
    {
      "cell_type": "code",
      "source": [
        "model = keras.Sequential([\n",
        "    layers.Input(shape=(num_coeffs,)),\n",
        "    layers.Dense(64, activation='relu'),\n",
        "    layers.Dense(num_params)\n",
        "])\n",
        "\n",
        "#model = tf.keras.Sequential([\n",
        "#    tf.keras.layers.Dense(512, activation='relu', input_shape=(num_coeffs,)),\n",
        "#    tf.keras.layers.BatchNormalization(synchronized=True),\n",
        "#    tf.keras.layers.Dropout(0.5),\n",
        "#    tf.keras.layers.Dense(256, activation='relu'),\n",
        "#    tf.keras.layers.Dense(64, activation='relu',kernel_regularizer='l1'),\n",
        "#    tf.keras.layers.Dense(6),\n",
        "#])"
      ],
      "metadata": {
        "id": "D7wmnWtcmu4r"
      },
      "execution_count": 16,
      "outputs": []
    },
    {
      "cell_type": "code",
      "source": [
        "from keras.optimizers import Adam\n",
        "opt = Adam(learning_rate=0.0001)\n",
        "model.compile(loss='mean_squared_error', optimizer=opt, metrics=['accuracy'])\n",
        "train = model.fit(coeffs_train, params_train, epochs=30, batch_size=16,\n",
        "                  validation_data=(coeffs_test, params_test))"
      ],
      "metadata": {
        "colab": {
          "base_uri": "https://localhost:8080/"
        },
        "id": "ls2spD2hP3PD",
        "outputId": "88533511-ca3c-4da7-a07b-2c47b53c433a"
      },
      "execution_count": 17,
      "outputs": [
        {
          "output_type": "stream",
          "name": "stdout",
          "text": [
            "Epoch 1/30\n",
            "844/844 [==============================] - 2s 2ms/step - loss: 1.3797 - accuracy: 0.3172 - val_loss: 0.5149 - val_accuracy: 0.3240\n",
            "Epoch 2/30\n",
            "844/844 [==============================] - 2s 2ms/step - loss: 0.4684 - accuracy: 0.3179 - val_loss: 0.4401 - val_accuracy: 0.3307\n",
            "Epoch 3/30\n",
            "844/844 [==============================] - 2s 2ms/step - loss: 0.4386 - accuracy: 0.3188 - val_loss: 0.4260 - val_accuracy: 0.3247\n",
            "Epoch 4/30\n",
            "844/844 [==============================] - 2s 2ms/step - loss: 0.4300 - accuracy: 0.3196 - val_loss: 0.4197 - val_accuracy: 0.3220\n",
            "Epoch 5/30\n",
            "844/844 [==============================] - 2s 2ms/step - loss: 0.4258 - accuracy: 0.3221 - val_loss: 0.4175 - val_accuracy: 0.3167\n",
            "Epoch 6/30\n",
            "844/844 [==============================] - 2s 2ms/step - loss: 0.4230 - accuracy: 0.3240 - val_loss: 0.4145 - val_accuracy: 0.3167\n",
            "Epoch 7/30\n",
            "844/844 [==============================] - 2s 2ms/step - loss: 0.4212 - accuracy: 0.3191 - val_loss: 0.4124 - val_accuracy: 0.3207\n",
            "Epoch 8/30\n",
            "844/844 [==============================] - 2s 2ms/step - loss: 0.4198 - accuracy: 0.3250 - val_loss: 0.4117 - val_accuracy: 0.3253\n",
            "Epoch 9/30\n",
            "844/844 [==============================] - 2s 2ms/step - loss: 0.4186 - accuracy: 0.3280 - val_loss: 0.4160 - val_accuracy: 0.3033\n",
            "Epoch 10/30\n",
            "844/844 [==============================] - 2s 2ms/step - loss: 0.4183 - accuracy: 0.3261 - val_loss: 0.4099 - val_accuracy: 0.3167\n",
            "Epoch 11/30\n",
            "844/844 [==============================] - 2s 2ms/step - loss: 0.4180 - accuracy: 0.3239 - val_loss: 0.4100 - val_accuracy: 0.3193\n",
            "Epoch 12/30\n",
            "844/844 [==============================] - 2s 2ms/step - loss: 0.4175 - accuracy: 0.3204 - val_loss: 0.4100 - val_accuracy: 0.3287\n",
            "Epoch 13/30\n",
            "844/844 [==============================] - 2s 2ms/step - loss: 0.4170 - accuracy: 0.3242 - val_loss: 0.4098 - val_accuracy: 0.3120\n",
            "Epoch 14/30\n",
            "844/844 [==============================] - 2s 2ms/step - loss: 0.4164 - accuracy: 0.3234 - val_loss: 0.4093 - val_accuracy: 0.3133\n",
            "Epoch 15/30\n",
            "844/844 [==============================] - 2s 2ms/step - loss: 0.4162 - accuracy: 0.3230 - val_loss: 0.4080 - val_accuracy: 0.3400\n",
            "Epoch 16/30\n",
            "844/844 [==============================] - 2s 2ms/step - loss: 0.4159 - accuracy: 0.3244 - val_loss: 0.4095 - val_accuracy: 0.3107\n",
            "Epoch 17/30\n",
            "844/844 [==============================] - 2s 2ms/step - loss: 0.4157 - accuracy: 0.3246 - val_loss: 0.4091 - val_accuracy: 0.3213\n",
            "Epoch 18/30\n",
            "844/844 [==============================] - 2s 2ms/step - loss: 0.4151 - accuracy: 0.3205 - val_loss: 0.4078 - val_accuracy: 0.3227\n",
            "Epoch 19/30\n",
            "844/844 [==============================] - 2s 2ms/step - loss: 0.4154 - accuracy: 0.3233 - val_loss: 0.4118 - val_accuracy: 0.3073\n",
            "Epoch 20/30\n",
            "844/844 [==============================] - 2s 2ms/step - loss: 0.4149 - accuracy: 0.3290 - val_loss: 0.4081 - val_accuracy: 0.3120\n",
            "Epoch 21/30\n",
            "844/844 [==============================] - 2s 2ms/step - loss: 0.4148 - accuracy: 0.3259 - val_loss: 0.4077 - val_accuracy: 0.3207\n",
            "Epoch 22/30\n",
            "844/844 [==============================] - 2s 2ms/step - loss: 0.4147 - accuracy: 0.3268 - val_loss: 0.4077 - val_accuracy: 0.3147\n",
            "Epoch 23/30\n",
            "844/844 [==============================] - 2s 2ms/step - loss: 0.4142 - accuracy: 0.3264 - val_loss: 0.4066 - val_accuracy: 0.3187\n",
            "Epoch 24/30\n",
            "844/844 [==============================] - 2s 2ms/step - loss: 0.4143 - accuracy: 0.3262 - val_loss: 0.4068 - val_accuracy: 0.3207\n",
            "Epoch 25/30\n",
            "844/844 [==============================] - 2s 2ms/step - loss: 0.4143 - accuracy: 0.3294 - val_loss: 0.4064 - val_accuracy: 0.3327\n",
            "Epoch 26/30\n",
            "844/844 [==============================] - 2s 2ms/step - loss: 0.4136 - accuracy: 0.3271 - val_loss: 0.4066 - val_accuracy: 0.3147\n",
            "Epoch 27/30\n",
            "844/844 [==============================] - 2s 2ms/step - loss: 0.4140 - accuracy: 0.3324 - val_loss: 0.4071 - val_accuracy: 0.3173\n",
            "Epoch 28/30\n",
            "844/844 [==============================] - 2s 2ms/step - loss: 0.4138 - accuracy: 0.3286 - val_loss: 0.4066 - val_accuracy: 0.3373\n",
            "Epoch 29/30\n",
            "844/844 [==============================] - 2s 2ms/step - loss: 0.4137 - accuracy: 0.3253 - val_loss: 0.4064 - val_accuracy: 0.3207\n",
            "Epoch 30/30\n",
            "844/844 [==============================] - 2s 2ms/step - loss: 0.4136 - accuracy: 0.3313 - val_loss: 0.4060 - val_accuracy: 0.3153\n"
          ]
        }
      ]
    },
    {
      "cell_type": "code",
      "source": [
        "predictions = model.predict(coeffs_test)\n",
        "loss = train.history['loss']\n",
        "val_loss = train.history['val_loss']\n",
        "accuracy = train.history['accuracy']\n",
        "val_accuracy = train.history['val_accuracy']"
      ],
      "metadata": {
        "colab": {
          "base_uri": "https://localhost:8080/"
        },
        "id": "Awfu8597t1RZ",
        "outputId": "16a89458-693b-4b69-b7a0-d8b7bb923579"
      },
      "execution_count": 18,
      "outputs": [
        {
          "output_type": "stream",
          "name": "stdout",
          "text": [
            "47/47 [==============================] - 0s 1ms/step\n"
          ]
        }
      ]
    },
    {
      "cell_type": "code",
      "source": [
        "fig, axs = plt.subplots(2, 2, figsize=(10, 6))\n",
        "\n",
        "axs[0,0].plot(loss)\n",
        "axs[0,1].plot(val_loss)\n",
        "axs[1,0].plot(accuracy)\n",
        "axs[1,1].plot(val_accuracy)\n",
        "\n",
        "axs[0,0].set_title('loss')\n",
        "axs[0,1].set_title('validation loss')\n",
        "axs[1,0].set_title('accuracy')\n",
        "axs[1,1].set_title('validation accuracy')\n",
        "\n",
        "axs[1,0].set_xlabel('number of epochs')\n",
        "axs[1,1].set_xlabel('number of epochs')"
      ],
      "metadata": {
        "colab": {
          "base_uri": "https://localhost:8080/",
          "height": 582
        },
        "id": "uZPqmw0jxmu9",
        "outputId": "effa5def-8a5a-4123-b451-f93a7e768025"
      },
      "execution_count": 19,
      "outputs": [
        {
          "output_type": "execute_result",
          "data": {
            "text/plain": [
              "Text(0.5, 0, 'number of epochs')"
            ]
          },
          "metadata": {},
          "execution_count": 19
        },
        {
          "output_type": "display_data",
          "data": {
            "text/plain": [
              "<Figure size 1000x600 with 4 Axes>"
            ],
            "image/png": "[encoded data removed]"
          },
          "metadata": {}
        }
      ]
    },
    {
      "cell_type": "code",
      "source": [
        "print(predictions.shape)\n",
        "print(params_test.shape)"
      ],
      "metadata": {
        "colab": {
          "base_uri": "https://localhost:8080/"
        },
        "id": "NwM7rOjAu4Gu",
        "outputId": "9313d633-cbc3-4bb8-c39c-99071de12a01"
      },
      "execution_count": 20,
      "outputs": [
        {
          "output_type": "stream",
          "name": "stdout",
          "text": [
            "(1500, 6)\n",
            "(1500, 6)\n"
          ]
        }
      ]
    },
    {
      "cell_type": "code",
      "source": [
        "# coefficients predicted\n",
        "pd.DataFrame(predictions)"
      ],
      "metadata": {
        "colab": {
          "base_uri": "https://localhost:8080/",
          "height": 424
        },
        "id": "zm_-fvaLkxlE",
        "outputId": "f152958d-619f-439b-dff4-30b2d2137081"
      },
      "execution_count": 21,
      "outputs": [
        {
          "output_type": "execute_result",
          "data": {
            "text/plain": [
              "             0         1         2         3         4         5\n",
              "0     0.213963  0.742325  1.378572  1.375376  1.078102  1.111868\n",
              "1     0.380769  0.928141  1.339824  1.459243  1.069899  1.145244\n",
              "2     0.338567  0.834511  1.291646  1.307790  1.056590  1.045292\n",
              "3     0.254646  0.746087  1.376720  1.381963  1.087473  1.071516\n",
              "4     0.111231  0.640467  1.211925  1.281115  1.002786  1.036027\n",
              "...        ...       ...       ...       ...       ...       ...\n",
              "1495  0.281285  0.799524  1.284943  1.272666  1.004022  1.067731\n",
              "1496  0.271773  0.773060  1.390625  1.371172  1.088618  1.090054\n",
              "1497  0.168286  0.700244  1.297313  1.332618  1.035828  1.074507\n",
              "1498  0.244673  0.773157  1.270519  1.304032  1.024004  1.080476\n",
              "1499  0.212847  0.756359  1.374570  1.374891  1.088831  1.102062\n",
              "\n",
              "[1500 rows x 6 columns]"
            ],
            "text/html": [
              "\n",
              "  <div id=\"df-5ed76123-f9cf-4fea-96a8-3e983bdb07e8\" class=\"colab-df-container\">\n",
              "    <div>\n",
              "<style scoped>\n",
              "    .dataframe tbody tr th:only-of-type {\n",
              "        vertical-align: middle;\n",
              "    }\n",
              "\n",
              "    .dataframe tbody tr th {\n",
              "        vertical-align: top;\n",
              "    }\n",
              "\n",
              "    .dataframe thead th {\n",
              "        text-align: right;\n",
              "    }\n",
              "</style>\n",
              "<table border=\"1\" class=\"dataframe\">\n",
              "  <thead>\n",
              "    <tr style=\"text-align: right;\">\n",
              "      <th></th>\n",
              "      <th>0</th>\n",
              "      <th>1</th>\n",
              "      <th>2</th>\n",
              "      <th>3</th>\n",
              "      <th>4</th>\n",
              "      <th>5</th>\n",
              "    </tr>\n",
              "  </thead>\n",
              "  <tbody>\n",
              "    <tr>\n",
              "      <th>0</th>\n",
              "      <td>0.213963</td>\n",
              "      <td>0.742325</td>\n",
              "      <td>1.378572</td>\n",
              "      <td>1.375376</td>\n",
              "      <td>1.078102</td>\n",
              "      <td>1.111868</td>\n",
              "    </tr>\n",
              "    <tr>\n",
              "      <th>1</th>\n",
              "      <td>0.380769</td>\n",
              "      <td>0.928141</td>\n",
              "      <td>1.339824</td>\n",
              "      <td>1.459243</td>\n",
              "      <td>1.069899</td>\n",
              "      <td>1.145244</td>\n",
              "    </tr>\n",
              "    <tr>\n",
              "      <th>2</th>\n",
              "      <td>0.338567</td>\n",
              "      <td>0.834511</td>\n",
              "      <td>1.291646</td>\n",
              "      <td>1.307790</td>\n",
              "      <td>1.056590</td>\n",
              "      <td>1.045292</td>\n",
              "    </tr>\n",
              "    <tr>\n",
              "      <th>3</th>\n",
              "      <td>0.254646</td>\n",
              "      <td>0.746087</td>\n",
              "      <td>1.376720</td>\n",
              "      <td>1.381963</td>\n",
              "      <td>1.087473</td>\n",
              "      <td>1.071516</td>\n",
              "    </tr>\n",
              "    <tr>\n",
              "      <th>4</th>\n",
              "      <td>0.111231</td>\n",
              "      <td>0.640467</td>\n",
              "      <td>1.211925</td>\n",
              "      <td>1.281115</td>\n",
              "      <td>1.002786</td>\n",
              "      <td>1.036027</td>\n",
              "    </tr>\n",
              "    <tr>\n",
              "      <th>...</th>\n",
              "      <td>...</td>\n",
              "      <td>...</td>\n",
              "      <td>...</td>\n",
              "      <td>...</td>\n",
              "      <td>...</td>\n",
              "      <td>...</td>\n",
              "    </tr>\n",
              "    <tr>\n",
              "      <th>1495</th>\n",
              "      <td>0.281285</td>\n",
              "      <td>0.799524</td>\n",
              "      <td>1.284943</td>\n",
              "      <td>1.272666</td>\n",
              "      <td>1.004022</td>\n",
              "      <td>1.067731</td>\n",
              "    </tr>\n",
              "    <tr>\n",
              "      <th>1496</th>\n",
              "      <td>0.271773</td>\n",
              "      <td>0.773060</td>\n",
              "      <td>1.390625</td>\n",
              "      <td>1.371172</td>\n",
              "      <td>1.088618</td>\n",
              "      <td>1.090054</td>\n",
              "    </tr>\n",
              "    <tr>\n",
              "      <th>1497</th>\n",
              "      <td>0.168286</td>\n",
              "      <td>0.700244</td>\n",
              "      <td>1.297313</td>\n",
              "      <td>1.332618</td>\n",
              "      <td>1.035828</td>\n",
              "      <td>1.074507</td>\n",
              "    </tr>\n",
              "    <tr>\n",
              "      <th>1498</th>\n",
              "      <td>0.244673</td>\n",
              "      <td>0.773157</td>\n",
              "      <td>1.270519</td>\n",
              "      <td>1.304032</td>\n",
              "      <td>1.024004</td>\n",
              "      <td>1.080476</td>\n",
              "    </tr>\n",
              "    <tr>\n",
              "      <th>1499</th>\n",
              "      <td>0.212847</td>\n",
              "      <td>0.756359</td>\n",
              "      <td>1.374570</td>\n",
              "      <td>1.374891</td>\n",
              "      <td>1.088831</td>\n",
              "      <td>1.102062</td>\n",
              "    </tr>\n",
              "  </tbody>\n",
              "</table>\n",
              "<p>1500 rows × 6 columns</p>\n",
              "</div>\n",
              "    <div class=\"colab-df-buttons\">\n",
              "\n",
              "  <div class=\"colab-df-container\">\n",
              "    <button class=\"colab-df-convert\" onclick=\"convertToInteractive('df-5ed76123-f9cf-4fea-96a8-3e983bdb07e8')\"\n",
              "            title=\"Convert this dataframe to an interactive table.\"\n",
              "            style=\"display:none;\">\n",
              "\n",
              "  <svg xmlns=\"http://www.w3.org/2000/svg\" height=\"24px\" viewBox=\"0 -960 960 960\">\n",
              "    <path d=\"M120-120v-720h720v720H120Zm60-500h600v-160H180v160Zm220 220h160v-160H400v160Zm0 220h160v-160H400v160ZM180-400h160v-160H180v160Zm440 0h160v-160H620v160ZM180-180h160v-160H180v160Zm440 0h160v-160H620v160Z\"/>\n",
              "  </svg>\n",
              "    </button>\n",
              "\n",
              "  <style>\n",
              "    .colab-df-container {\n",
              "      display:flex;\n",
              "      gap: 12px;\n",
              "    }\n",
              "\n",
              "    .colab-df-convert {\n",
              "      background-color: #E8F0FE;\n",
              "      border: none;\n",
              "      border-radius: 50%;\n",
              "      cursor: pointer;\n",
              "      display: none;\n",
              "      fill: #1967D2;\n",
              "      height: 32px;\n",
              "      padding: 0 0 0 0;\n",
              "      width: 32px;\n",
              "    }\n",
              "\n",
              "    .colab-df-convert:hover {\n",
              "      background-color: #E2EBFA;\n",
              "      box-shadow: 0px 1px 2px rgba(60, 64, 67, 0.3), 0px 1px 3px 1px rgba(60, 64, 67, 0.15);\n",
              "      fill: #174EA6;\n",
              "    }\n",
              "\n",
              "    .colab-df-buttons div {\n",
              "      margin-bottom: 4px;\n",
              "    }\n",
              "\n",
              "    [theme=dark] .colab-df-convert {\n",
              "      background-color: #3B4455;\n",
              "      fill: #D2E3FC;\n",
              "    }\n",
              "\n",
              "    [theme=dark] .colab-df-convert:hover {\n",
              "      background-color: #434B5C;\n",
              "      box-shadow: 0px 1px 3px 1px rgba(0, 0, 0, 0.15);\n",
              "      filter: drop-shadow(0px 1px 2px rgba(0, 0, 0, 0.3));\n",
              "      fill: #FFFFFF;\n",
              "    }\n",
              "  </style>\n",
              "\n",
              "    <script>\n",
              "      const buttonEl =\n",
              "        document.querySelector('#df-5ed76123-f9cf-4fea-96a8-3e983bdb07e8 button.colab-df-convert');\n",
              "      buttonEl.style.display =\n",
              "        google.colab.kernel.accessAllowed ? 'block' : 'none';\n",
              "\n",
              "      async function convertToInteractive(key) {\n",
              "        const element = document.querySelector('#df-5ed76123-f9cf-4fea-96a8-3e983bdb07e8');\n",
              "        const dataTable =\n",
              "          await google.colab.kernel.invokeFunction('convertToInteractive',\n",
              "                                                    [key], {});\n",
              "        if (!dataTable) return;\n",
              "\n",
              "        const docLinkHtml = 'Like what you see? Visit the ' +\n",
              "          '<a target=\"_blank\" href=https://colab.research.google.com/notebooks/data_table.ipynb>data table notebook</a>'\n",
              "          + ' to learn more about interactive tables.';\n",
              "        element.innerHTML = '';\n",
              "        dataTable['output_type'] = 'display_data';\n",
              "        await google.colab.output.renderOutput(dataTable, element);\n",
              "        const docLink = document.createElement('div');\n",
              "        docLink.innerHTML = docLinkHtml;\n",
              "        element.appendChild(docLink);\n",
              "      }\n",
              "    </script>\n",
              "  </div>\n",
              "\n",
              "\n",
              "<div id=\"df-a3e2b27d-b653-4978-a08a-c109360eb93e\">\n",
              "  <button class=\"colab-df-quickchart\" onclick=\"quickchart('df-a3e2b27d-b653-4978-a08a-c109360eb93e')\"\n",
              "            title=\"Suggest charts.\"\n",
              "            style=\"display:none;\">\n",
              "\n",
              "<svg xmlns=\"http://www.w3.org/2000/svg\" height=\"24px\"viewBox=\"0 0 24 24\"\n",
              "     width=\"24px\">\n",
              "    <g>\n",
              "        <path d=\"M19 3H5c-1.1 0-2 .9-2 2v14c0 1.1.9 2 2 2h14c1.1 0 2-.9 2-2V5c0-1.1-.9-2-2-2zM9 17H7v-7h2v7zm4 0h-2V7h2v10zm4 0h-2v-4h2v4z\"/>\n",
              "    </g>\n",
              "</svg>\n",
              "  </button>\n",
              "\n",
              "<style>\n",
              "  .colab-df-quickchart {\n",
              "    background-color: #E8F0FE;\n",
              "    border: none;\n",
              "    border-radius: 50%;\n",
              "    cursor: pointer;\n",
              "    display: none;\n",
              "    fill: #1967D2;\n",
              "    height: 32px;\n",
              "    padding: 0 0 0 0;\n",
              "    width: 32px;\n",
              "  }\n",
              "\n",
              "  .colab-df-quickchart:hover {\n",
              "    background-color: #E2EBFA;\n",
              "    box-shadow: 0px 1px 2px rgba(60, 64, 67, 0.3), 0px 1px 3px 1px rgba(60, 64, 67, 0.15);\n",
              "    fill: #174EA6;\n",
              "  }\n",
              "\n",
              "  [theme=dark] .colab-df-quickchart {\n",
              "    background-color: #3B4455;\n",
              "    fill: #D2E3FC;\n",
              "  }\n",
              "\n",
              "  [theme=dark] .colab-df-quickchart:hover {\n",
              "    background-color: #434B5C;\n",
              "    box-shadow: 0px 1px 3px 1px rgba(0, 0, 0, 0.15);\n",
              "    filter: drop-shadow(0px 1px 2px rgba(0, 0, 0, 0.3));\n",
              "    fill: #FFFFFF;\n",
              "  }\n",
              "</style>\n",
              "\n",
              "  <script>\n",
              "    async function quickchart(key) {\n",
              "      const charts = await google.colab.kernel.invokeFunction(\n",
              "          'suggestCharts', [key], {});\n",
              "    }\n",
              "    (() => {\n",
              "      let quickchartButtonEl =\n",
              "        document.querySelector('#df-a3e2b27d-b653-4978-a08a-c109360eb93e button');\n",
              "      quickchartButtonEl.style.display =\n",
              "        google.colab.kernel.accessAllowed ? 'block' : 'none';\n",
              "    })();\n",
              "  </script>\n",
              "</div>\n",
              "    </div>\n",
              "  </div>\n"
            ]
          },
          "metadata": {},
          "execution_count": 21
        }
      ]
    },
    {
      "cell_type": "code",
      "source": [
        "pd.DataFrame(params_test)"
      ],
      "metadata": {
        "colab": {
          "base_uri": "https://localhost:8080/",
          "height": 424
        },
        "id": "nNK4L-w7T4-5",
        "outputId": "cbbec95d-8a2b-49b3-abd7-d89cf27741ed"
      },
      "execution_count": 22,
      "outputs": [
        {
          "output_type": "execute_result",
          "data": {
            "text/plain": [
              "           0       1        2        3        4        5\n",
              "0     0.1842  0.6438  0.41123  0.40109  0.51370  0.82074\n",
              "1     0.3658  0.9690  1.62225  0.50069  0.92338  1.83147\n",
              "2     0.2138  0.9698  0.62851  1.46409  1.68296  1.14472\n",
              "3     0.3874  0.6946  0.60626  1.16312  1.30767  0.69112\n",
              "4     0.1346  0.6182  0.61643  2.07053  1.57680  1.73748\n",
              "...      ...     ...      ...      ...      ...      ...\n",
              "1495  0.2714  0.7738  1.00417  0.74639  0.98966  0.69207\n",
              "1496  0.3378  0.6542  2.63536  3.23553  1.77645  1.45902\n",
              "1497  0.1302  0.7246  0.28837  0.68492  0.70662  0.94540\n",
              "1498  0.1970  0.8166  0.28440  0.97400  1.14631  1.06363\n",
              "1499  0.1466  0.9562  3.56524  1.17609  1.96564  1.07699\n",
              "\n",
              "[1500 rows x 6 columns]"
            ],
            "text/html": [
              "\n",
              "  <div id=\"df-b678b798-127e-43ed-8a1c-62c232dd4f55\" class=\"colab-df-container\">\n",
              "    <div>\n",
              "<style scoped>\n",
              "    .dataframe tbody tr th:only-of-type {\n",
              "        vertical-align: middle;\n",
              "    }\n",
              "\n",
              "    .dataframe tbody tr th {\n",
              "        vertical-align: top;\n",
              "    }\n",
              "\n",
              "    .dataframe thead th {\n",
              "        text-align: right;\n",
              "    }\n",
              "</style>\n",
              "<table border=\"1\" class=\"dataframe\">\n",
              "  <thead>\n",
              "    <tr style=\"text-align: right;\">\n",
              "      <th></th>\n",
              "      <th>0</th>\n",
              "      <th>1</th>\n",
              "      <th>2</th>\n",
              "      <th>3</th>\n",
              "      <th>4</th>\n",
              "      <th>5</th>\n",
              "    </tr>\n",
              "  </thead>\n",
              "  <tbody>\n",
              "    <tr>\n",
              "      <th>0</th>\n",
              "      <td>0.1842</td>\n",
              "      <td>0.6438</td>\n",
              "      <td>0.41123</td>\n",
              "      <td>0.40109</td>\n",
              "      <td>0.51370</td>\n",
              "      <td>0.82074</td>\n",
              "    </tr>\n",
              "    <tr>\n",
              "      <th>1</th>\n",
              "      <td>0.3658</td>\n",
              "      <td>0.9690</td>\n",
              "      <td>1.62225</td>\n",
              "      <td>0.50069</td>\n",
              "      <td>0.92338</td>\n",
              "      <td>1.83147</td>\n",
              "    </tr>\n",
              "    <tr>\n",
              "      <th>2</th>\n",
              "      <td>0.2138</td>\n",
              "      <td>0.9698</td>\n",
              "      <td>0.62851</td>\n",
              "      <td>1.46409</td>\n",
              "      <td>1.68296</td>\n",
              "      <td>1.14472</td>\n",
              "    </tr>\n",
              "    <tr>\n",
              "      <th>3</th>\n",
              "      <td>0.3874</td>\n",
              "      <td>0.6946</td>\n",
              "      <td>0.60626</td>\n",
              "      <td>1.16312</td>\n",
              "      <td>1.30767</td>\n",
              "      <td>0.69112</td>\n",
              "    </tr>\n",
              "    <tr>\n",
              "      <th>4</th>\n",
              "      <td>0.1346</td>\n",
              "      <td>0.6182</td>\n",
              "      <td>0.61643</td>\n",
              "      <td>2.07053</td>\n",
              "      <td>1.57680</td>\n",
              "      <td>1.73748</td>\n",
              "    </tr>\n",
              "    <tr>\n",
              "      <th>...</th>\n",
              "      <td>...</td>\n",
              "      <td>...</td>\n",
              "      <td>...</td>\n",
              "      <td>...</td>\n",
              "      <td>...</td>\n",
              "      <td>...</td>\n",
              "    </tr>\n",
              "    <tr>\n",
              "      <th>1495</th>\n",
              "      <td>0.2714</td>\n",
              "      <td>0.7738</td>\n",
              "      <td>1.00417</td>\n",
              "      <td>0.74639</td>\n",
              "      <td>0.98966</td>\n",
              "      <td>0.69207</td>\n",
              "    </tr>\n",
              "    <tr>\n",
              "      <th>1496</th>\n",
              "      <td>0.3378</td>\n",
              "      <td>0.6542</td>\n",
              "      <td>2.63536</td>\n",
              "      <td>3.23553</td>\n",
              "      <td>1.77645</td>\n",
              "      <td>1.45902</td>\n",
              "    </tr>\n",
              "    <tr>\n",
              "      <th>1497</th>\n",
              "      <td>0.1302</td>\n",
              "      <td>0.7246</td>\n",
              "      <td>0.28837</td>\n",
              "      <td>0.68492</td>\n",
              "      <td>0.70662</td>\n",
              "      <td>0.94540</td>\n",
              "    </tr>\n",
              "    <tr>\n",
              "      <th>1498</th>\n",
              "      <td>0.1970</td>\n",
              "      <td>0.8166</td>\n",
              "      <td>0.28440</td>\n",
              "      <td>0.97400</td>\n",
              "      <td>1.14631</td>\n",
              "      <td>1.06363</td>\n",
              "    </tr>\n",
              "    <tr>\n",
              "      <th>1499</th>\n",
              "      <td>0.1466</td>\n",
              "      <td>0.9562</td>\n",
              "      <td>3.56524</td>\n",
              "      <td>1.17609</td>\n",
              "      <td>1.96564</td>\n",
              "      <td>1.07699</td>\n",
              "    </tr>\n",
              "  </tbody>\n",
              "</table>\n",
              "<p>1500 rows × 6 columns</p>\n",
              "</div>\n",
              "    <div class=\"colab-df-buttons\">\n",
              "\n",
              "  <div class=\"colab-df-container\">\n",
              "    <button class=\"colab-df-convert\" onclick=\"convertToInteractive('df-b678b798-127e-43ed-8a1c-62c232dd4f55')\"\n",
              "            title=\"Convert this dataframe to an interactive table.\"\n",
              "            style=\"display:none;\">\n",
              "\n",
              "  <svg xmlns=\"http://www.w3.org/2000/svg\" height=\"24px\" viewBox=\"0 -960 960 960\">\n",
              "    <path d=\"M120-120v-720h720v720H120Zm60-500h600v-160H180v160Zm220 220h160v-160H400v160Zm0 220h160v-160H400v160ZM180-400h160v-160H180v160Zm440 0h160v-160H620v160ZM180-180h160v-160H180v160Zm440 0h160v-160H620v160Z\"/>\n",
              "  </svg>\n",
              "    </button>\n",
              "\n",
              "  <style>\n",
              "    .colab-df-container {\n",
              "      display:flex;\n",
              "      gap: 12px;\n",
              "    }\n",
              "\n",
              "    .colab-df-convert {\n",
              "      background-color: #E8F0FE;\n",
              "      border: none;\n",
              "      border-radius: 50%;\n",
              "      cursor: pointer;\n",
              "      display: none;\n",
              "      fill: #1967D2;\n",
              "      height: 32px;\n",
              "      padding: 0 0 0 0;\n",
              "      width: 32px;\n",
              "    }\n",
              "\n",
              "    .colab-df-convert:hover {\n",
              "      background-color: #E2EBFA;\n",
              "      box-shadow: 0px 1px 2px rgba(60, 64, 67, 0.3), 0px 1px 3px 1px rgba(60, 64, 67, 0.15);\n",
              "      fill: #174EA6;\n",
              "    }\n",
              "\n",
              "    .colab-df-buttons div {\n",
              "      margin-bottom: 4px;\n",
              "    }\n",
              "\n",
              "    [theme=dark] .colab-df-convert {\n",
              "      background-color: #3B4455;\n",
              "      fill: #D2E3FC;\n",
              "    }\n",
              "\n",
              "    [theme=dark] .colab-df-convert:hover {\n",
              "      background-color: #434B5C;\n",
              "      box-shadow: 0px 1px 3px 1px rgba(0, 0, 0, 0.15);\n",
              "      filter: drop-shadow(0px 1px 2px rgba(0, 0, 0, 0.3));\n",
              "      fill: #FFFFFF;\n",
              "    }\n",
              "  </style>\n",
              "\n",
              "    <script>\n",
              "      const buttonEl =\n",
              "        document.querySelector('#df-b678b798-127e-43ed-8a1c-62c232dd4f55 button.colab-df-convert');\n",
              "      buttonEl.style.display =\n",
              "        google.colab.kernel.accessAllowed ? 'block' : 'none';\n",
              "\n",
              "      async function convertToInteractive(key) {\n",
              "        const element = document.querySelector('#df-b678b798-127e-43ed-8a1c-62c232dd4f55');\n",
              "        const dataTable =\n",
              "          await google.colab.kernel.invokeFunction('convertToInteractive',\n",
              "                                                    [key], {});\n",
              "        if (!dataTable) return;\n",
              "\n",
              "        const docLinkHtml = 'Like what you see? Visit the ' +\n",
              "          '<a target=\"_blank\" href=https://colab.research.google.com/notebooks/data_table.ipynb>data table notebook</a>'\n",
              "          + ' to learn more about interactive tables.';\n",
              "        element.innerHTML = '';\n",
              "        dataTable['output_type'] = 'display_data';\n",
              "        await google.colab.output.renderOutput(dataTable, element);\n",
              "        const docLink = document.createElement('div');\n",
              "        docLink.innerHTML = docLinkHtml;\n",
              "        element.appendChild(docLink);\n",
              "      }\n",
              "    </script>\n",
              "  </div>\n",
              "\n",
              "\n",
              "<div id=\"df-9beb742c-959a-43c2-8d66-c9298b4616f0\">\n",
              "  <button class=\"colab-df-quickchart\" onclick=\"quickchart('df-9beb742c-959a-43c2-8d66-c9298b4616f0')\"\n",
              "            title=\"Suggest charts.\"\n",
              "            style=\"display:none;\">\n",
              "\n",
              "<svg xmlns=\"http://www.w3.org/2000/svg\" height=\"24px\"viewBox=\"0 0 24 24\"\n",
              "     width=\"24px\">\n",
              "    <g>\n",
              "        <path d=\"M19 3H5c-1.1 0-2 .9-2 2v14c0 1.1.9 2 2 2h14c1.1 0 2-.9 2-2V5c0-1.1-.9-2-2-2zM9 17H7v-7h2v7zm4 0h-2V7h2v10zm4 0h-2v-4h2v4z\"/>\n",
              "    </g>\n",
              "</svg>\n",
              "  </button>\n",
              "\n",
              "<style>\n",
              "  .colab-df-quickchart {\n",
              "    background-color: #E8F0FE;\n",
              "    border: none;\n",
              "    border-radius: 50%;\n",
              "    cursor: pointer;\n",
              "    display: none;\n",
              "    fill: #1967D2;\n",
              "    height: 32px;\n",
              "    padding: 0 0 0 0;\n",
              "    width: 32px;\n",
              "  }\n",
              "\n",
              "  .colab-df-quickchart:hover {\n",
              "    background-color: #E2EBFA;\n",
              "    box-shadow: 0px 1px 2px rgba(60, 64, 67, 0.3), 0px 1px 3px 1px rgba(60, 64, 67, 0.15);\n",
              "    fill: #174EA6;\n",
              "  }\n",
              "\n",
              "  [theme=dark] .colab-df-quickchart {\n",
              "    background-color: #3B4455;\n",
              "    fill: #D2E3FC;\n",
              "  }\n",
              "\n",
              "  [theme=dark] .colab-df-quickchart:hover {\n",
              "    background-color: #434B5C;\n",
              "    box-shadow: 0px 1px 3px 1px rgba(0, 0, 0, 0.15);\n",
              "    filter: drop-shadow(0px 1px 2px rgba(0, 0, 0, 0.3));\n",
              "    fill: #FFFFFF;\n",
              "  }\n",
              "</style>\n",
              "\n",
              "  <script>\n",
              "    async function quickchart(key) {\n",
              "      const charts = await google.colab.kernel.invokeFunction(\n",
              "          'suggestCharts', [key], {});\n",
              "    }\n",
              "    (() => {\n",
              "      let quickchartButtonEl =\n",
              "        document.querySelector('#df-9beb742c-959a-43c2-8d66-c9298b4616f0 button');\n",
              "      quickchartButtonEl.style.display =\n",
              "        google.colab.kernel.accessAllowed ? 'block' : 'none';\n",
              "    })();\n",
              "  </script>\n",
              "</div>\n",
              "    </div>\n",
              "  </div>\n"
            ]
          },
          "metadata": {},
          "execution_count": 22
        }
      ]
    },
    {
      "cell_type": "code",
      "source": [
        "plt.scatter(params_test,predictions)\n",
        "x = np.linspace(0,1,21)\n",
        "y = x\n",
        "plt.plot(x,y,'r')"
      ],
      "metadata": {
        "colab": {
          "base_uri": "https://localhost:8080/",
          "height": 448
        },
        "id": "ErBtp5zeG5Yv",
        "outputId": "3fcc8d8b-284b-4a6a-c149-c3925ce6c01e"
      },
      "execution_count": 25,
      "outputs": [
        {
          "output_type": "execute_result",
          "data": {
            "text/plain": [
              "[<matplotlib.lines.Line2D at 0x7f0d6461aa10>]"
            ]
          },
          "metadata": {},
          "execution_count": 25
        },
        {
          "output_type": "display_data",
          "data": {
            "text/plain": [
              "<Figure size 640x480 with 1 Axes>"
            ],
            "image/png": "[encoded data removed]"
          },
          "metadata": {}
        }
      ]
    },
    {
      "cell_type": "code",
      "source": [],
      "metadata": {
        "id": "MdzSmIT8B6oI"
      },
      "execution_count": null,
      "outputs": []
    }
  ]
}